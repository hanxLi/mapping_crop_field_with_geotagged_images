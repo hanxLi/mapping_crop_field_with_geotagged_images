{
 "cells": [
  {
   "cell_type": "code",
   "execution_count": null,
   "metadata": {},
   "outputs": [],
   "source": [
    "%load_ext autoreload\n",
    "%autoreload 2\n",
    "import os\n",
    "import sys\n",
    "sys.path.append(\"/Users/steeeve/Documents/GMU/GGS590/Final_Project\")\n",
    "\n",
    "os.environ[\"PYTORCH_ENABLE_MPS_FALLBACK\"] = \"1\"\n",
    "import torch \n",
    "import ee\n",
    "import pandas as pd\n",
    "from MappingCropField import extract_metadata, generate_delineation, display_assigned_field"
   ]
  },
  {
   "cell_type": "markdown",
   "metadata": {},
   "source": [
    "##### Config"
   ]
  },
  {
   "cell_type": "code",
   "execution_count": null,
   "metadata": {},
   "outputs": [],
   "source": [
    "config = {\"all_img_path\": \"/Users/steeeve/Documents/GMU/GGS590/Final_Project/data/all_sv_imgs\",\n",
    "          \"color_composite\": \"true_color\", # Pick between true_color and false_color\n",
    "          \"save_path\": \"/Users/steeeve/Documents/GMU/GGS590/Final_Project/sent2/\",\n",
    "          \"credential_path\": \"/Users/steeeve/Documents/GMU/GGS590/Final_Project/hanxli_creds.json\",\n",
    "          \"label_csv_path\": \"/Users/steeeve/Documents/GMU/GGS590/Final_Project/data/csiss_imgs.csv\",\n",
    "          \"folder_id\": \"1iwSPV5D05rA9T2TdQ9gy9ED5UDimLpNA\" # Folder ID from Google Drive Folder Address\n",
    "          }"
   ]
  },
  {
   "cell_type": "markdown",
   "metadata": {},
   "source": [
    "##### Extracting Metadata from Geotagged Images"
   ]
  },
  {
   "cell_type": "code",
   "execution_count": null,
   "metadata": {},
   "outputs": [],
   "source": [
    "meta_df = extract_metadata(config[\"all_img_path\"])\n",
    "meta_df.head(3)"
   ]
  },
  {
   "cell_type": "code",
   "execution_count": null,
   "metadata": {},
   "outputs": [],
   "source": [
    "label_df = pd.read_csv(config[\"label_csv_path\"], index_col=0)\n",
    "label_df.head(3)"
   ]
  },
  {
   "cell_type": "code",
   "execution_count": null,
   "metadata": {},
   "outputs": [],
   "source": [
    "label_subset = label_df[[\"img_name\", \"crop_type\"]]\n",
    "\n",
    "# Merge df1 with the subset of df2 based on filename (df1) and img_name (df2)\n",
    "meta_df = pd.merge(meta_df, label_subset, left_on=\"filename\", right_on=\"img_name\", how=\"left\", suffixes=(\"_meta\", \"_label\"))\n",
    "\n",
    "# Drop the redundant img_name column\n",
    "meta_df = meta_df.drop(columns=[\"img_name\"])\n",
    "\n",
    "# Display the updated DataFrame\n",
    "meta_df = meta_df.dropna(subset=[\"crop_type\"]).reset_index(drop=True)\n",
    "meta_df.head(3)"
   ]
  },
  {
   "cell_type": "markdown",
   "metadata": {},
   "source": [
    "##### Spatial processing"
   ]
  },
  {
   "cell_type": "code",
   "execution_count": null,
   "metadata": {},
   "outputs": [],
   "source": [
    "ee.Authenticate()\n",
    "ee.Initialize(project=\"ee-hanxli\")"
   ]
  },
  {
   "cell_type": "code",
   "execution_count": null,
   "metadata": {},
   "outputs": [],
   "source": [
    "generate_delineation(meta_df[0:1], \n",
    "                     color_composite = config[\"color_composite\"], \n",
    "                     save_path = config[\"save_path\"],\n",
    "                     credentials_file_path = config[\"credential_path\"],\n",
    "                     folder_id = config[\"folder_id\"],\n",
    "                     visualize = True)"
   ]
  },
  {
   "cell_type": "code",
   "execution_count": null,
   "metadata": {},
   "outputs": [],
   "source": [
    "lbl_bounds = display_assigned_field(meta_df, \n",
    "                                    color_composite = config[\"color_composite\"], \n",
    "                                    save_path = config[\"save_path\"],\n",
    "                                    credentials_file_path = config[\"credential_path\"],\n",
    "                                    folder_id = config[\"folder_id\"],\n",
    "                                    batch_process=True)"
   ]
  },
  {
   "cell_type": "code",
   "execution_count": null,
   "metadata": {},
   "outputs": [],
   "source": []
  }
 ],
 "metadata": {
  "kernelspec": {
   "display_name": "mapping_crop_field_env",
   "language": "python",
   "name": "python3"
  },
  "language_info": {
   "codemirror_mode": {
    "name": "ipython",
    "version": 3
   },
   "file_extension": ".py",
   "mimetype": "text/x-python",
   "name": "python",
   "nbconvert_exporter": "python",
   "pygments_lexer": "ipython3",
   "version": "3.10.15"
  }
 },
 "nbformat": 4,
 "nbformat_minor": 2
}
