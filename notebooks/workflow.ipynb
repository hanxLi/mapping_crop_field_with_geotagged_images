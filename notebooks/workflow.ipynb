{
 "cells": [
  {
   "cell_type": "markdown",
   "metadata": {},
   "source": [
    "# Mapping Geotagged Street-view Images to Crop Maps\n",
    "#### Hanxi Li, CSISS, GMU, hli51@gmu.edu"
   ]
  },
  {
   "cell_type": "markdown",
   "metadata": {},
   "source": [
    "Welcome to the Crop Mapping Workflow Notebook, which contains the complete implementation of the pipeline for mapping crop fields using geotagged street-view images. The workflow is designed to test the feasibility of using geotagged street-view images to create accurate crop maps when crop type labels are predetermined.\n",
    "\n",
    "This notebook guides you through the essential steps, including pre-processing geotagged metadata, retrieving satellite imagery, generating field boundaries, and mapping crop fields."
   ]
  },
  {
   "cell_type": "code",
   "execution_count": 1,
   "metadata": {},
   "outputs": [],
   "source": [
    "# %load_ext autoreload\n",
    "# %autoreload 2\n",
    "import os\n",
    "import sys\n",
    "sys.path.append(\"/Users/steeeve/Documents/GMU/GGS590/Final_Project\")\n",
    "\n",
    "os.environ[\"PYTORCH_ENABLE_MPS_FALLBACK\"] = \"1\"\n",
    "import torch \n",
    "import ee\n",
    "import pandas as pd\n",
    "from MappingCropField import extract_metadata, generate_delineation, display_assigned_field"
   ]
  },
  {
   "cell_type": "code",
   "execution_count": 2,
   "metadata": {},
   "outputs": [
    {
     "data": {
      "text/html": [
       "\n",
       "            <style>\n",
       "                .geemap-dark {\n",
       "                    --jp-widgets-color: white;\n",
       "                    --jp-widgets-label-color: white;\n",
       "                    --jp-ui-font-color1: white;\n",
       "                    --jp-layout-color2: #454545;\n",
       "                    background-color: #383838;\n",
       "                }\n",
       "\n",
       "                .geemap-dark .jupyter-button {\n",
       "                    --jp-layout-color3: #383838;\n",
       "                }\n",
       "\n",
       "                .geemap-colab {\n",
       "                    background-color: var(--colab-primary-surface-color, white);\n",
       "                }\n",
       "\n",
       "                .geemap-colab .jupyter-button {\n",
       "                    --jp-layout-color3: var(--colab-primary-surface-color, white);\n",
       "                }\n",
       "            </style>\n",
       "            "
      ],
      "text/plain": [
       "<IPython.core.display.HTML object>"
      ]
     },
     "metadata": {},
     "output_type": "display_data"
    },
    {
     "name": "stdout",
     "output_type": "stream",
     "text": [
      "Note: you may need to restart the kernel to use updated packages.\n"
     ]
    }
   ],
   "source": [
    "# Ensure the newest version is installed\n",
    "# Since the parameter pattern changed for osmnx on 2.0.0\n",
    "%pip install --upgrade pyproj osmnx --quiet "
   ]
  },
  {
   "cell_type": "markdown",
   "metadata": {},
   "source": [
    "##### Config"
   ]
  },
  {
   "cell_type": "code",
   "execution_count": 3,
   "metadata": {},
   "outputs": [
    {
     "data": {
      "text/html": [
       "\n",
       "            <style>\n",
       "                .geemap-dark {\n",
       "                    --jp-widgets-color: white;\n",
       "                    --jp-widgets-label-color: white;\n",
       "                    --jp-ui-font-color1: white;\n",
       "                    --jp-layout-color2: #454545;\n",
       "                    background-color: #383838;\n",
       "                }\n",
       "\n",
       "                .geemap-dark .jupyter-button {\n",
       "                    --jp-layout-color3: #383838;\n",
       "                }\n",
       "\n",
       "                .geemap-colab {\n",
       "                    background-color: var(--colab-primary-surface-color, white);\n",
       "                }\n",
       "\n",
       "                .geemap-colab .jupyter-button {\n",
       "                    --jp-layout-color3: var(--colab-primary-surface-color, white);\n",
       "                }\n",
       "            </style>\n",
       "            "
      ],
      "text/plain": [
       "<IPython.core.display.HTML object>"
      ]
     },
     "metadata": {},
     "output_type": "display_data"
    }
   ],
   "source": [
    "config = {\"all_img_path\": \"/Users/steeeve/Documents/GMU/GGS590/Final_Project/data/all_sv_imgs\",\n",
    "          \"color_composite\": \"true_color\", # Pick between true_color and false_color\n",
    "          \"save_path\": \"/Users/steeeve/Documents/GMU/GGS590/Final_Project/sent2/\",\n",
    "          \"credential_path\": \"/Users/steeeve/Documents/GMU/GGS590/Final_Project/hanxli_creds.json\",\n",
    "          \"label_csv_path\": \"/Users/steeeve/Documents/GMU/GGS590/Final_Project/data/csiss_imgs.csv\",\n",
    "          \"folder_id\": \"1iwSPV5D05rA9T2TdQ9gy9ED5UDimLpNA\" # Folder ID from Google Drive Folder Address\n",
    "          }"
   ]
  },
  {
   "cell_type": "markdown",
   "metadata": {},
   "source": [
    "##### Extracting Metadata from Geotagged Images"
   ]
  },
  {
   "cell_type": "code",
   "execution_count": 4,
   "metadata": {},
   "outputs": [
    {
     "data": {
      "text/html": [
       "\n",
       "            <style>\n",
       "                .geemap-dark {\n",
       "                    --jp-widgets-color: white;\n",
       "                    --jp-widgets-label-color: white;\n",
       "                    --jp-ui-font-color1: white;\n",
       "                    --jp-layout-color2: #454545;\n",
       "                    background-color: #383838;\n",
       "                }\n",
       "\n",
       "                .geemap-dark .jupyter-button {\n",
       "                    --jp-layout-color3: #383838;\n",
       "                }\n",
       "\n",
       "                .geemap-colab {\n",
       "                    background-color: var(--colab-primary-surface-color, white);\n",
       "                }\n",
       "\n",
       "                .geemap-colab .jupyter-button {\n",
       "                    --jp-layout-color3: var(--colab-primary-surface-color, white);\n",
       "                }\n",
       "            </style>\n",
       "            "
      ],
      "text/plain": [
       "<IPython.core.display.HTML object>"
      ]
     },
     "metadata": {},
     "output_type": "display_data"
    },
    {
     "data": {
      "text/html": [
       "<div>\n",
       "<style scoped>\n",
       "    .dataframe tbody tr th:only-of-type {\n",
       "        vertical-align: middle;\n",
       "    }\n",
       "\n",
       "    .dataframe tbody tr th {\n",
       "        vertical-align: top;\n",
       "    }\n",
       "\n",
       "    .dataframe thead th {\n",
       "        text-align: right;\n",
       "    }\n",
       "</style>\n",
       "<table border=\"1\" class=\"dataframe\">\n",
       "  <thead>\n",
       "    <tr style=\"text-align: right;\">\n",
       "      <th></th>\n",
       "      <th>filename</th>\n",
       "      <th>img_path</th>\n",
       "      <th>altitude</th>\n",
       "      <th>direction</th>\n",
       "      <th>time</th>\n",
       "      <th>geometry</th>\n",
       "    </tr>\n",
       "  </thead>\n",
       "  <tbody>\n",
       "    <tr>\n",
       "      <th>0</th>\n",
       "      <td>IMG_2022_176.jpg</td>\n",
       "      <td>../data/all_sv_imgs/IMG_2022_176.jpg</td>\n",
       "      <td>420.764783</td>\n",
       "      <td>91.784451</td>\n",
       "      <td>2022:08:09 15:20:29</td>\n",
       "      <td>POINT (-96.614 40.697)</td>\n",
       "    </tr>\n",
       "    <tr>\n",
       "      <th>1</th>\n",
       "      <td>IMG_2023_365.jpg</td>\n",
       "      <td>../data/all_sv_imgs/IMG_2023_365.jpg</td>\n",
       "      <td>622.166723</td>\n",
       "      <td>248.346314</td>\n",
       "      <td>2023:10:14 14:08:05</td>\n",
       "      <td>POINT (-98.769 40.771)</td>\n",
       "    </tr>\n",
       "    <tr>\n",
       "      <th>2</th>\n",
       "      <td>IMG_2023_403.jpg</td>\n",
       "      <td>../data/all_sv_imgs/IMG_2023_403.jpg</td>\n",
       "      <td>337.280145</td>\n",
       "      <td>183.725876</td>\n",
       "      <td>2023:10:15 11:12:46</td>\n",
       "      <td>POINT (-96.18 40.473)</td>\n",
       "    </tr>\n",
       "  </tbody>\n",
       "</table>\n",
       "</div>"
      ],
      "text/plain": [
       "           filename                              img_path    altitude  \\\n",
       "0  IMG_2022_176.jpg  ../data/all_sv_imgs/IMG_2022_176.jpg  420.764783   \n",
       "1  IMG_2023_365.jpg  ../data/all_sv_imgs/IMG_2023_365.jpg  622.166723   \n",
       "2  IMG_2023_403.jpg  ../data/all_sv_imgs/IMG_2023_403.jpg  337.280145   \n",
       "\n",
       "    direction                 time                geometry  \n",
       "0   91.784451  2022:08:09 15:20:29  POINT (-96.614 40.697)  \n",
       "1  248.346314  2023:10:14 14:08:05  POINT (-98.769 40.771)  \n",
       "2  183.725876  2023:10:15 11:12:46   POINT (-96.18 40.473)  "
      ]
     },
     "execution_count": 4,
     "metadata": {},
     "output_type": "execute_result"
    }
   ],
   "source": [
    "meta_df = extract_metadata(config[\"all_img_path\"])\n",
    "meta_df.head(3)"
   ]
  },
  {
   "cell_type": "code",
   "execution_count": 5,
   "metadata": {},
   "outputs": [
    {
     "data": {
      "text/html": [
       "\n",
       "            <style>\n",
       "                .geemap-dark {\n",
       "                    --jp-widgets-color: white;\n",
       "                    --jp-widgets-label-color: white;\n",
       "                    --jp-ui-font-color1: white;\n",
       "                    --jp-layout-color2: #454545;\n",
       "                    background-color: #383838;\n",
       "                }\n",
       "\n",
       "                .geemap-dark .jupyter-button {\n",
       "                    --jp-layout-color3: #383838;\n",
       "                }\n",
       "\n",
       "                .geemap-colab {\n",
       "                    background-color: var(--colab-primary-surface-color, white);\n",
       "                }\n",
       "\n",
       "                .geemap-colab .jupyter-button {\n",
       "                    --jp-layout-color3: var(--colab-primary-surface-color, white);\n",
       "                }\n",
       "            </style>\n",
       "            "
      ],
      "text/plain": [
       "<IPython.core.display.HTML object>"
      ]
     },
     "metadata": {},
     "output_type": "display_data"
    },
    {
     "data": {
      "text/html": [
       "<div>\n",
       "<style scoped>\n",
       "    .dataframe tbody tr th:only-of-type {\n",
       "        vertical-align: middle;\n",
       "    }\n",
       "\n",
       "    .dataframe tbody tr th {\n",
       "        vertical-align: top;\n",
       "    }\n",
       "\n",
       "    .dataframe thead th {\n",
       "        text-align: right;\n",
       "    }\n",
       "</style>\n",
       "<table border=\"1\" class=\"dataframe\">\n",
       "  <thead>\n",
       "    <tr style=\"text-align: right;\">\n",
       "      <th></th>\n",
       "      <th>img_name</th>\n",
       "      <th>timestamp</th>\n",
       "      <th>crop_type</th>\n",
       "      <th>save_path</th>\n",
       "      <th>geometry</th>\n",
       "    </tr>\n",
       "  </thead>\n",
       "  <tbody>\n",
       "    <tr>\n",
       "      <th>0</th>\n",
       "      <td>IMG_2022_001.jpg</td>\n",
       "      <td>2022-08-09 13:54:08</td>\n",
       "      <td>Maize</td>\n",
       "      <td>/home/hanxli/data/data/all_sv_imgs/IMG_2022_00...</td>\n",
       "      <td>POINT (-134842.93178947328 1983715.3378369794)</td>\n",
       "    </tr>\n",
       "    <tr>\n",
       "      <th>1</th>\n",
       "      <td>IMG_2022_003.jpg</td>\n",
       "      <td>2022-08-09 13:54:20</td>\n",
       "      <td>Soybean</td>\n",
       "      <td>/home/hanxli/data/data/all_sv_imgs/IMG_2022_00...</td>\n",
       "      <td>POINT (-134401.7644465734 1983428.4774710557)</td>\n",
       "    </tr>\n",
       "    <tr>\n",
       "      <th>2</th>\n",
       "      <td>IMG_2022_004.jpg</td>\n",
       "      <td>2022-08-09 14:48:06</td>\n",
       "      <td>Soybean</td>\n",
       "      <td>/home/hanxli/data/data/all_sv_imgs/IMG_2022_00...</td>\n",
       "      <td>POINT (-134291.47027611607 1983356.61060757)</td>\n",
       "    </tr>\n",
       "  </tbody>\n",
       "</table>\n",
       "</div>"
      ],
      "text/plain": [
       "           img_name            timestamp crop_type  \\\n",
       "0  IMG_2022_001.jpg  2022-08-09 13:54:08     Maize   \n",
       "1  IMG_2022_003.jpg  2022-08-09 13:54:20   Soybean   \n",
       "2  IMG_2022_004.jpg  2022-08-09 14:48:06   Soybean   \n",
       "\n",
       "                                           save_path  \\\n",
       "0  /home/hanxli/data/data/all_sv_imgs/IMG_2022_00...   \n",
       "1  /home/hanxli/data/data/all_sv_imgs/IMG_2022_00...   \n",
       "2  /home/hanxli/data/data/all_sv_imgs/IMG_2022_00...   \n",
       "\n",
       "                                         geometry  \n",
       "0  POINT (-134842.93178947328 1983715.3378369794)  \n",
       "1   POINT (-134401.7644465734 1983428.4774710557)  \n",
       "2    POINT (-134291.47027611607 1983356.61060757)  "
      ]
     },
     "execution_count": 5,
     "metadata": {},
     "output_type": "execute_result"
    }
   ],
   "source": [
    "label_df = pd.read_csv(config[\"label_csv_path\"], index_col=0)\n",
    "label_df.head(3)"
   ]
  },
  {
   "cell_type": "code",
   "execution_count": 6,
   "metadata": {},
   "outputs": [
    {
     "data": {
      "text/html": [
       "\n",
       "            <style>\n",
       "                .geemap-dark {\n",
       "                    --jp-widgets-color: white;\n",
       "                    --jp-widgets-label-color: white;\n",
       "                    --jp-ui-font-color1: white;\n",
       "                    --jp-layout-color2: #454545;\n",
       "                    background-color: #383838;\n",
       "                }\n",
       "\n",
       "                .geemap-dark .jupyter-button {\n",
       "                    --jp-layout-color3: #383838;\n",
       "                }\n",
       "\n",
       "                .geemap-colab {\n",
       "                    background-color: var(--colab-primary-surface-color, white);\n",
       "                }\n",
       "\n",
       "                .geemap-colab .jupyter-button {\n",
       "                    --jp-layout-color3: var(--colab-primary-surface-color, white);\n",
       "                }\n",
       "            </style>\n",
       "            "
      ],
      "text/plain": [
       "<IPython.core.display.HTML object>"
      ]
     },
     "metadata": {},
     "output_type": "display_data"
    },
    {
     "data": {
      "text/html": [
       "<div>\n",
       "<style scoped>\n",
       "    .dataframe tbody tr th:only-of-type {\n",
       "        vertical-align: middle;\n",
       "    }\n",
       "\n",
       "    .dataframe tbody tr th {\n",
       "        vertical-align: top;\n",
       "    }\n",
       "\n",
       "    .dataframe thead th {\n",
       "        text-align: right;\n",
       "    }\n",
       "</style>\n",
       "<table border=\"1\" class=\"dataframe\">\n",
       "  <thead>\n",
       "    <tr style=\"text-align: right;\">\n",
       "      <th></th>\n",
       "      <th>filename</th>\n",
       "      <th>img_path</th>\n",
       "      <th>altitude</th>\n",
       "      <th>direction</th>\n",
       "      <th>time</th>\n",
       "      <th>geometry</th>\n",
       "      <th>crop_type</th>\n",
       "    </tr>\n",
       "  </thead>\n",
       "  <tbody>\n",
       "    <tr>\n",
       "      <th>0</th>\n",
       "      <td>IMG_2023_365.jpg</td>\n",
       "      <td>../data/all_sv_imgs/IMG_2023_365.jpg</td>\n",
       "      <td>622.166723</td>\n",
       "      <td>248.346314</td>\n",
       "      <td>2023:10:14 14:08:05</td>\n",
       "      <td>POINT (-98.769 40.771)</td>\n",
       "      <td>Maize</td>\n",
       "    </tr>\n",
       "    <tr>\n",
       "      <th>1</th>\n",
       "      <td>IMG_2023_403.jpg</td>\n",
       "      <td>../data/all_sv_imgs/IMG_2023_403.jpg</td>\n",
       "      <td>337.280145</td>\n",
       "      <td>183.725876</td>\n",
       "      <td>2023:10:15 11:12:46</td>\n",
       "      <td>POINT (-96.18 40.473)</td>\n",
       "      <td>Maize</td>\n",
       "    </tr>\n",
       "    <tr>\n",
       "      <th>2</th>\n",
       "      <td>IMG_2023_417.jpg</td>\n",
       "      <td>../data/all_sv_imgs/IMG_2023_417.jpg</td>\n",
       "      <td>361.880265</td>\n",
       "      <td>188.567879</td>\n",
       "      <td>2023:10:15 11:23:28</td>\n",
       "      <td>POINT (-96.18 40.315)</td>\n",
       "      <td>Other</td>\n",
       "    </tr>\n",
       "  </tbody>\n",
       "</table>\n",
       "</div>"
      ],
      "text/plain": [
       "           filename                              img_path    altitude  \\\n",
       "0  IMG_2023_365.jpg  ../data/all_sv_imgs/IMG_2023_365.jpg  622.166723   \n",
       "1  IMG_2023_403.jpg  ../data/all_sv_imgs/IMG_2023_403.jpg  337.280145   \n",
       "2  IMG_2023_417.jpg  ../data/all_sv_imgs/IMG_2023_417.jpg  361.880265   \n",
       "\n",
       "    direction                 time                geometry crop_type  \n",
       "0  248.346314  2023:10:14 14:08:05  POINT (-98.769 40.771)     Maize  \n",
       "1  183.725876  2023:10:15 11:12:46   POINT (-96.18 40.473)     Maize  \n",
       "2  188.567879  2023:10:15 11:23:28   POINT (-96.18 40.315)     Other  "
      ]
     },
     "execution_count": 6,
     "metadata": {},
     "output_type": "execute_result"
    }
   ],
   "source": [
    "label_subset = label_df[[\"img_name\", \"crop_type\"]]\n",
    "\n",
    "# Merge df1 with the subset of df2 based on filename (df1) and img_name (df2)\n",
    "meta_df = pd.merge(meta_df, label_subset, left_on=\"filename\", right_on=\"img_name\", how=\"left\", suffixes=(\"_meta\", \"_label\"))\n",
    "\n",
    "# Drop the redundant img_name column\n",
    "meta_df = meta_df.drop(columns=[\"img_name\"])\n",
    "\n",
    "# Display the updated DataFrame\n",
    "meta_df = meta_df.dropna(subset=[\"crop_type\"]).reset_index(drop=True)\n",
    "meta_df.head(3)"
   ]
  },
  {
   "cell_type": "markdown",
   "metadata": {},
   "source": [
    "##### Spatial processing"
   ]
  },
  {
   "cell_type": "code",
   "execution_count": 7,
   "metadata": {},
   "outputs": [
    {
     "data": {
      "text/html": [
       "\n",
       "            <style>\n",
       "                .geemap-dark {\n",
       "                    --jp-widgets-color: white;\n",
       "                    --jp-widgets-label-color: white;\n",
       "                    --jp-ui-font-color1: white;\n",
       "                    --jp-layout-color2: #454545;\n",
       "                    background-color: #383838;\n",
       "                }\n",
       "\n",
       "                .geemap-dark .jupyter-button {\n",
       "                    --jp-layout-color3: #383838;\n",
       "                }\n",
       "\n",
       "                .geemap-colab {\n",
       "                    background-color: var(--colab-primary-surface-color, white);\n",
       "                }\n",
       "\n",
       "                .geemap-colab .jupyter-button {\n",
       "                    --jp-layout-color3: var(--colab-primary-surface-color, white);\n",
       "                }\n",
       "            </style>\n",
       "            "
      ],
      "text/plain": [
       "<IPython.core.display.HTML object>"
      ]
     },
     "metadata": {},
     "output_type": "display_data"
    }
   ],
   "source": [
    "ee.Authenticate()\n",
    "ee.Initialize(project=\"ee-hanxli\")"
   ]
  },
  {
   "cell_type": "code",
   "execution_count": null,
   "metadata": {},
   "outputs": [],
   "source": [
    "generate_delineation(meta_df[0:1], \n",
    "                     color_composite = config[\"color_composite\"], \n",
    "                     save_path = config[\"save_path\"],\n",
    "                     credentials_file_path = config[\"credential_path\"],\n",
    "                     folder_id = config[\"folder_id\"],\n",
    "                     visualize = True)"
   ]
  },
  {
   "cell_type": "code",
   "execution_count": null,
   "metadata": {},
   "outputs": [],
   "source": [
    "# Randomly select 20 rows from meta_df\n",
    "meta_subset = meta_df.sample(n=20, random_state=42).reset_index(drop=True)\n",
    "lbl_bounds = display_assigned_field(meta_subset,\n",
    "                                    color_composite = config[\"color_composite\"], \n",
    "                                    save_path = config[\"save_path\"],\n",
    "                                    credentials_file_path = config[\"credential_path\"],\n",
    "                                    folder_id = config[\"folder_id\"],\n",
    "                                    batch_process=True)"
   ]
  },
  {
   "cell_type": "code",
   "execution_count": 9,
   "metadata": {},
   "outputs": [
    {
     "data": {
      "text/html": [
       "\n",
       "            <style>\n",
       "                .geemap-dark {\n",
       "                    --jp-widgets-color: white;\n",
       "                    --jp-widgets-label-color: white;\n",
       "                    --jp-ui-font-color1: white;\n",
       "                    --jp-layout-color2: #454545;\n",
       "                    background-color: #383838;\n",
       "                }\n",
       "\n",
       "                .geemap-dark .jupyter-button {\n",
       "                    --jp-layout-color3: #383838;\n",
       "                }\n",
       "\n",
       "                .geemap-colab {\n",
       "                    background-color: var(--colab-primary-surface-color, white);\n",
       "                }\n",
       "\n",
       "                .geemap-colab .jupyter-button {\n",
       "                    --jp-layout-color3: var(--colab-primary-surface-color, white);\n",
       "                }\n",
       "            </style>\n",
       "            "
      ],
      "text/plain": [
       "<IPython.core.display.HTML object>"
      ]
     },
     "metadata": {},
     "output_type": "display_data"
    },
    {
     "data": {
      "text/html": [
       "<div>\n",
       "<style scoped>\n",
       "    .dataframe tbody tr th:only-of-type {\n",
       "        vertical-align: middle;\n",
       "    }\n",
       "\n",
       "    .dataframe tbody tr th {\n",
       "        vertical-align: top;\n",
       "    }\n",
       "\n",
       "    .dataframe thead th {\n",
       "        text-align: right;\n",
       "    }\n",
       "</style>\n",
       "<table border=\"1\" class=\"dataframe\">\n",
       "  <thead>\n",
       "    <tr style=\"text-align: right;\">\n",
       "      <th></th>\n",
       "      <th>filename</th>\n",
       "      <th>time</th>\n",
       "      <th>crop_type</th>\n",
       "      <th>geometry</th>\n",
       "    </tr>\n",
       "  </thead>\n",
       "  <tbody>\n",
       "    <tr>\n",
       "      <th>0</th>\n",
       "      <td>IMG_2023_113.jpg</td>\n",
       "      <td>2023:10:13 17:36:43</td>\n",
       "      <td>Maize</td>\n",
       "      <td>POLYGON ((6.84e+05 4.64e+06, 6.84e+05 4.64e+06...</td>\n",
       "    </tr>\n",
       "    <tr>\n",
       "      <th>1</th>\n",
       "      <td>IMG_2022_340.jpg</td>\n",
       "      <td>2022:08:11 11:31:47</td>\n",
       "      <td>Soybean</td>\n",
       "      <td>POLYGON ((3.31e+05 4.57e+06, 3.31e+05 4.57e+06...</td>\n",
       "    </tr>\n",
       "    <tr>\n",
       "      <th>2</th>\n",
       "      <td>IMG_2023_316.jpg</td>\n",
       "      <td>2023:10:14 11:24:52</td>\n",
       "      <td>Maize</td>\n",
       "      <td>POLYGON ((6.37e+05 4.56e+06, 6.37e+05 4.56e+06...</td>\n",
       "    </tr>\n",
       "    <tr>\n",
       "      <th>3</th>\n",
       "      <td>IMG_2023_199.jpg</td>\n",
       "      <td>2023:10:14 11:02:54</td>\n",
       "      <td>Maize</td>\n",
       "      <td>POLYGON ((6.74e+05 4.56e+06, 6.74e+05 4.56e+06...</td>\n",
       "    </tr>\n",
       "    <tr>\n",
       "      <th>4</th>\n",
       "      <td>IMG_2023_446.jpg</td>\n",
       "      <td>2023:10:15 11:35:45</td>\n",
       "      <td>Soybean</td>\n",
       "      <td>POLYGON ((7.4e+05 4.46e+06, 7.4e+05 4.46e+06, ...</td>\n",
       "    </tr>\n",
       "    <tr>\n",
       "      <th>5</th>\n",
       "      <td>IMG_2022_035.jpg</td>\n",
       "      <td>2022:08:09 14:09:13</td>\n",
       "      <td>Maize</td>\n",
       "      <td>POLYGON ((6.18e+05 4.5e+06, 6.18e+05 4.5e+06, ...</td>\n",
       "    </tr>\n",
       "    <tr>\n",
       "      <th>6</th>\n",
       "      <td>IMG_2023_226.jpg</td>\n",
       "      <td>2023:10:14 11:04:26</td>\n",
       "      <td>Soybean</td>\n",
       "      <td>POLYGON ((6.71e+05 4.56e+06, 6.71e+05 4.56e+06...</td>\n",
       "    </tr>\n",
       "    <tr>\n",
       "      <th>7</th>\n",
       "      <td>IMG_2023_089.jpg</td>\n",
       "      <td>2023:10:13 17:24:15</td>\n",
       "      <td>Maize</td>\n",
       "      <td>POLYGON ((6.7e+05 4.65e+06, 6.7e+05 4.65e+06, ...</td>\n",
       "    </tr>\n",
       "    <tr>\n",
       "      <th>8</th>\n",
       "      <td>IMG_2023_284.jpg</td>\n",
       "      <td>2023:10:14 11:12:27</td>\n",
       "      <td>Soybean</td>\n",
       "      <td>POLYGON ((6.57e+05 4.56e+06, 6.57e+05 4.56e+06...</td>\n",
       "    </tr>\n",
       "    <tr>\n",
       "      <th>9</th>\n",
       "      <td>IMG_2023_557.jpg</td>\n",
       "      <td>2023:10:15 18:31:24</td>\n",
       "      <td>Other</td>\n",
       "      <td>POLYGON ((7.27e+05 4.57e+06, 7.27e+05 4.57e+06...</td>\n",
       "    </tr>\n",
       "  </tbody>\n",
       "</table>\n",
       "</div>"
      ],
      "text/plain": [
       "           filename                 time crop_type  \\\n",
       "0  IMG_2023_113.jpg  2023:10:13 17:36:43     Maize   \n",
       "1  IMG_2022_340.jpg  2022:08:11 11:31:47   Soybean   \n",
       "2  IMG_2023_316.jpg  2023:10:14 11:24:52     Maize   \n",
       "3  IMG_2023_199.jpg  2023:10:14 11:02:54     Maize   \n",
       "4  IMG_2023_446.jpg  2023:10:15 11:35:45   Soybean   \n",
       "5  IMG_2022_035.jpg  2022:08:09 14:09:13     Maize   \n",
       "6  IMG_2023_226.jpg  2023:10:14 11:04:26   Soybean   \n",
       "7  IMG_2023_089.jpg  2023:10:13 17:24:15     Maize   \n",
       "8  IMG_2023_284.jpg  2023:10:14 11:12:27   Soybean   \n",
       "9  IMG_2023_557.jpg  2023:10:15 18:31:24     Other   \n",
       "\n",
       "                                            geometry  \n",
       "0  POLYGON ((6.84e+05 4.64e+06, 6.84e+05 4.64e+06...  \n",
       "1  POLYGON ((3.31e+05 4.57e+06, 3.31e+05 4.57e+06...  \n",
       "2  POLYGON ((6.37e+05 4.56e+06, 6.37e+05 4.56e+06...  \n",
       "3  POLYGON ((6.74e+05 4.56e+06, 6.74e+05 4.56e+06...  \n",
       "4  POLYGON ((7.4e+05 4.46e+06, 7.4e+05 4.46e+06, ...  \n",
       "5  POLYGON ((6.18e+05 4.5e+06, 6.18e+05 4.5e+06, ...  \n",
       "6  POLYGON ((6.71e+05 4.56e+06, 6.71e+05 4.56e+06...  \n",
       "7  POLYGON ((6.7e+05 4.65e+06, 6.7e+05 4.65e+06, ...  \n",
       "8  POLYGON ((6.57e+05 4.56e+06, 6.57e+05 4.56e+06...  \n",
       "9  POLYGON ((7.27e+05 4.57e+06, 7.27e+05 4.57e+06...  "
      ]
     },
     "execution_count": 9,
     "metadata": {},
     "output_type": "execute_result"
    }
   ],
   "source": [
    "lbl_bounds"
   ]
  },
  {
   "cell_type": "markdown",
   "metadata": {},
   "source": [
    "##### Validation"
   ]
  },
  {
   "cell_type": "code",
   "execution_count": null,
   "metadata": {},
   "outputs": [
    {
     "data": {
      "text/html": [
       "\n",
       "            <style>\n",
       "                .geemap-dark {\n",
       "                    --jp-widgets-color: white;\n",
       "                    --jp-widgets-label-color: white;\n",
       "                    --jp-ui-font-color1: white;\n",
       "                    --jp-layout-color2: #454545;\n",
       "                    background-color: #383838;\n",
       "                }\n",
       "\n",
       "                .geemap-dark .jupyter-button {\n",
       "                    --jp-layout-color3: #383838;\n",
       "                }\n",
       "\n",
       "                .geemap-colab {\n",
       "                    background-color: var(--colab-primary-surface-color, white);\n",
       "                }\n",
       "\n",
       "                .geemap-colab .jupyter-button {\n",
       "                    --jp-layout-color3: var(--colab-primary-surface-color, white);\n",
       "                }\n",
       "            </style>\n",
       "            "
      ],
      "text/plain": [
       "<IPython.core.display.HTML object>"
      ]
     },
     "metadata": {},
     "output_type": "display_data"
    }
   ],
   "source": [
    "# Simple combine of all groundtruth\n",
    "import geopandas as gpd\n",
    "import matplotlib.pyplot as plt\n",
    "gdf1 = lbl_bounds\n",
    "gdf2 = gpd.read_file(\"/Users/steeeve/Documents/GMU/GGS590/Final_Project/data/In-season 2023 ground truth/Nebraska2023groundtruth.shp\")\n",
    "gdf3 = gpd.read_file(\"/Users/steeeve/Documents/GMU/GGS590/Final_Project/data/IowaNebraska2022_GroundTruthShp/GroundTruthNebraska2022.shp\")\n",
    "gdf4 = gpd.read_file(\"/Users/steeeve/Documents/GMU/GGS590/Final_Project/data/IowaNebraska2022_GroundTruthShp/GroundTruthIowa2022.shp\")\n",
    "gdf5 = gpd.read_file(\"/Users/steeeve/Documents/GMU/GGS590/Final_Project/data/IowaNebraska2022_GroundTruthShp/GroundTruthMaryland2022.shp\")\n",
    "target_crs = gdf1.crs\n",
    "gdf2 = gdf2.to_crs(target_crs)\n",
    "gdf3 = gdf3.to_crs(target_crs)\n",
    "gdf4 = gdf4.to_crs(target_crs)\n",
    "gdf5 = gdf5.to_crs(target_crs)\n",
    "merged_gdf = gpd.GeoDataFrame(pd.concat([gdf2, gdf3], ignore_index=True))\n",
    "merged_gdf = gpd.GeoDataFrame(pd.concat([merged_gdf, gdf4], ignore_index=True))\n",
    "merged_gdf = gpd.GeoDataFrame(pd.concat([merged_gdf, gdf5], ignore_index=True))"
   ]
  },
  {
   "cell_type": "code",
   "execution_count": 18,
   "metadata": {},
   "outputs": [
    {
     "data": {
      "text/html": [
       "\n",
       "            <style>\n",
       "                .geemap-dark {\n",
       "                    --jp-widgets-color: white;\n",
       "                    --jp-widgets-label-color: white;\n",
       "                    --jp-ui-font-color1: white;\n",
       "                    --jp-layout-color2: #454545;\n",
       "                    background-color: #383838;\n",
       "                }\n",
       "\n",
       "                .geemap-dark .jupyter-button {\n",
       "                    --jp-layout-color3: #383838;\n",
       "                }\n",
       "\n",
       "                .geemap-colab {\n",
       "                    background-color: var(--colab-primary-surface-color, white);\n",
       "                }\n",
       "\n",
       "                .geemap-colab .jupyter-button {\n",
       "                    --jp-layout-color3: var(--colab-primary-surface-color, white);\n",
       "                }\n",
       "            </style>\n",
       "            "
      ],
      "text/plain": [
       "<IPython.core.display.HTML object>"
      ]
     },
     "metadata": {},
     "output_type": "display_data"
    },
    {
     "name": "stdout",
     "output_type": "stream",
     "text": [
      "Total geometries in gdf1: 10\n",
      "Intersecting geometries: 7\n",
      "Intersection Accuracy: 70.00%\n"
     ]
    },
    {
     "data": {
      "image/png": "[encoded data removed]",
      "text/plain": [
       "<Figure size 1000x600 with 1 Axes>"
      ]
     },
     "metadata": {},
     "output_type": "display_data"
    }
   ],
   "source": [
    "gdf1 = lbl_bounds\n",
    "gdf2 = merged_gdf\n",
    "\n",
    "if gdf1.crs != gdf2.crs:\n",
    "    gdf2 = gdf2.to_crs(gdf1.crs)\n",
    "\n",
    "# Check intersections and add a validation column\n",
    "gdf1['intersects'] = gdf1.geometry.apply(lambda geom: gdf2.geometry.intersects(geom).any())\n",
    "\n",
    "# Calculate metrics\n",
    "total_geometries = len(gdf1)\n",
    "intersecting_geometries = gdf1['intersects'].sum()\n",
    "intersection_accuracy = intersecting_geometries / total_geometries\n",
    "\n",
    "# Print summary\n",
    "print(f\"Total geometries in gdf1: {total_geometries}\")\n",
    "print(f\"Intersecting geometries: {intersecting_geometries}\")\n",
    "print(f\"Intersection Accuracy: {intersection_accuracy:.2%}\")\n",
    "\n",
    "# Plot results\n",
    "plt.figure(figsize=(10, 6))\n",
    "plt.bar([\"Intersecting\", \"Non-intersecting\"], [intersecting_geometries, total_geometries - intersecting_geometries], color=[\"blue\", \"orange\"])\n",
    "plt.title(\"Intersection Validation Results\")\n",
    "plt.ylabel(\"Count\")\n",
    "plt.show()\n"
   ]
  },
  {
   "cell_type": "code",
   "execution_count": 19,
   "metadata": {},
   "outputs": [
    {
     "data": {
      "text/html": [
       "\n",
       "            <style>\n",
       "                .geemap-dark {\n",
       "                    --jp-widgets-color: white;\n",
       "                    --jp-widgets-label-color: white;\n",
       "                    --jp-ui-font-color1: white;\n",
       "                    --jp-layout-color2: #454545;\n",
       "                    background-color: #383838;\n",
       "                }\n",
       "\n",
       "                .geemap-dark .jupyter-button {\n",
       "                    --jp-layout-color3: #383838;\n",
       "                }\n",
       "\n",
       "                .geemap-colab {\n",
       "                    background-color: var(--colab-primary-surface-color, white);\n",
       "                }\n",
       "\n",
       "                .geemap-colab .jupyter-button {\n",
       "                    --jp-layout-color3: var(--colab-primary-surface-color, white);\n",
       "                }\n",
       "            </style>\n",
       "            "
      ],
      "text/plain": [
       "<IPython.core.display.HTML object>"
      ]
     },
     "metadata": {},
     "output_type": "display_data"
    },
    {
     "data": {
      "text/html": [
       "<div>\n",
       "<style scoped>\n",
       "    .dataframe tbody tr th:only-of-type {\n",
       "        vertical-align: middle;\n",
       "    }\n",
       "\n",
       "    .dataframe tbody tr th {\n",
       "        vertical-align: top;\n",
       "    }\n",
       "\n",
       "    .dataframe thead th {\n",
       "        text-align: right;\n",
       "    }\n",
       "</style>\n",
       "<table border=\"1\" class=\"dataframe\">\n",
       "  <thead>\n",
       "    <tr style=\"text-align: right;\">\n",
       "      <th></th>\n",
       "      <th>filename</th>\n",
       "      <th>time</th>\n",
       "      <th>crop_type</th>\n",
       "      <th>geometry</th>\n",
       "      <th>overlaps</th>\n",
       "      <th>intersects</th>\n",
       "    </tr>\n",
       "  </thead>\n",
       "  <tbody>\n",
       "    <tr>\n",
       "      <th>0</th>\n",
       "      <td>IMG_2023_113.jpg</td>\n",
       "      <td>2023:10:13 17:36:43</td>\n",
       "      <td>Maize</td>\n",
       "      <td>POLYGON ((6.84e+05 4.64e+06, 6.84e+05 4.64e+06...</td>\n",
       "      <td>False</td>\n",
       "      <td>True</td>\n",
       "    </tr>\n",
       "    <tr>\n",
       "      <th>1</th>\n",
       "      <td>IMG_2022_340.jpg</td>\n",
       "      <td>2022:08:11 11:31:47</td>\n",
       "      <td>Soybean</td>\n",
       "      <td>POLYGON ((3.31e+05 4.57e+06, 3.31e+05 4.57e+06...</td>\n",
       "      <td>False</td>\n",
       "      <td>False</td>\n",
       "    </tr>\n",
       "    <tr>\n",
       "      <th>2</th>\n",
       "      <td>IMG_2023_316.jpg</td>\n",
       "      <td>2023:10:14 11:24:52</td>\n",
       "      <td>Maize</td>\n",
       "      <td>POLYGON ((6.37e+05 4.56e+06, 6.37e+05 4.56e+06...</td>\n",
       "      <td>False</td>\n",
       "      <td>False</td>\n",
       "    </tr>\n",
       "    <tr>\n",
       "      <th>3</th>\n",
       "      <td>IMG_2023_199.jpg</td>\n",
       "      <td>2023:10:14 11:02:54</td>\n",
       "      <td>Maize</td>\n",
       "      <td>POLYGON ((6.74e+05 4.56e+06, 6.74e+05 4.56e+06...</td>\n",
       "      <td>False</td>\n",
       "      <td>True</td>\n",
       "    </tr>\n",
       "    <tr>\n",
       "      <th>4</th>\n",
       "      <td>IMG_2023_446.jpg</td>\n",
       "      <td>2023:10:15 11:35:45</td>\n",
       "      <td>Soybean</td>\n",
       "      <td>POLYGON ((7.4e+05 4.46e+06, 7.4e+05 4.46e+06, ...</td>\n",
       "      <td>False</td>\n",
       "      <td>True</td>\n",
       "    </tr>\n",
       "    <tr>\n",
       "      <th>5</th>\n",
       "      <td>IMG_2022_035.jpg</td>\n",
       "      <td>2022:08:09 14:09:13</td>\n",
       "      <td>Maize</td>\n",
       "      <td>POLYGON ((6.18e+05 4.5e+06, 6.18e+05 4.5e+06, ...</td>\n",
       "      <td>False</td>\n",
       "      <td>True</td>\n",
       "    </tr>\n",
       "    <tr>\n",
       "      <th>6</th>\n",
       "      <td>IMG_2023_226.jpg</td>\n",
       "      <td>2023:10:14 11:04:26</td>\n",
       "      <td>Soybean</td>\n",
       "      <td>POLYGON ((6.71e+05 4.56e+06, 6.71e+05 4.56e+06...</td>\n",
       "      <td>False</td>\n",
       "      <td>True</td>\n",
       "    </tr>\n",
       "    <tr>\n",
       "      <th>7</th>\n",
       "      <td>IMG_2023_089.jpg</td>\n",
       "      <td>2023:10:13 17:24:15</td>\n",
       "      <td>Maize</td>\n",
       "      <td>POLYGON ((6.7e+05 4.65e+06, 6.7e+05 4.65e+06, ...</td>\n",
       "      <td>False</td>\n",
       "      <td>False</td>\n",
       "    </tr>\n",
       "    <tr>\n",
       "      <th>8</th>\n",
       "      <td>IMG_2023_284.jpg</td>\n",
       "      <td>2023:10:14 11:12:27</td>\n",
       "      <td>Soybean</td>\n",
       "      <td>POLYGON ((6.57e+05 4.56e+06, 6.57e+05 4.56e+06...</td>\n",
       "      <td>False</td>\n",
       "      <td>True</td>\n",
       "    </tr>\n",
       "    <tr>\n",
       "      <th>9</th>\n",
       "      <td>IMG_2023_557.jpg</td>\n",
       "      <td>2023:10:15 18:31:24</td>\n",
       "      <td>Other</td>\n",
       "      <td>POLYGON ((7.27e+05 4.57e+06, 7.27e+05 4.57e+06...</td>\n",
       "      <td>False</td>\n",
       "      <td>True</td>\n",
       "    </tr>\n",
       "  </tbody>\n",
       "</table>\n",
       "</div>"
      ],
      "text/plain": [
       "           filename                 time crop_type  \\\n",
       "0  IMG_2023_113.jpg  2023:10:13 17:36:43     Maize   \n",
       "1  IMG_2022_340.jpg  2022:08:11 11:31:47   Soybean   \n",
       "2  IMG_2023_316.jpg  2023:10:14 11:24:52     Maize   \n",
       "3  IMG_2023_199.jpg  2023:10:14 11:02:54     Maize   \n",
       "4  IMG_2023_446.jpg  2023:10:15 11:35:45   Soybean   \n",
       "5  IMG_2022_035.jpg  2022:08:09 14:09:13     Maize   \n",
       "6  IMG_2023_226.jpg  2023:10:14 11:04:26   Soybean   \n",
       "7  IMG_2023_089.jpg  2023:10:13 17:24:15     Maize   \n",
       "8  IMG_2023_284.jpg  2023:10:14 11:12:27   Soybean   \n",
       "9  IMG_2023_557.jpg  2023:10:15 18:31:24     Other   \n",
       "\n",
       "                                            geometry  overlaps  intersects  \n",
       "0  POLYGON ((6.84e+05 4.64e+06, 6.84e+05 4.64e+06...     False        True  \n",
       "1  POLYGON ((3.31e+05 4.57e+06, 3.31e+05 4.57e+06...     False       False  \n",
       "2  POLYGON ((6.37e+05 4.56e+06, 6.37e+05 4.56e+06...     False       False  \n",
       "3  POLYGON ((6.74e+05 4.56e+06, 6.74e+05 4.56e+06...     False        True  \n",
       "4  POLYGON ((7.4e+05 4.46e+06, 7.4e+05 4.46e+06, ...     False        True  \n",
       "5  POLYGON ((6.18e+05 4.5e+06, 6.18e+05 4.5e+06, ...     False        True  \n",
       "6  POLYGON ((6.71e+05 4.56e+06, 6.71e+05 4.56e+06...     False        True  \n",
       "7  POLYGON ((6.7e+05 4.65e+06, 6.7e+05 4.65e+06, ...     False       False  \n",
       "8  POLYGON ((6.57e+05 4.56e+06, 6.57e+05 4.56e+06...     False        True  \n",
       "9  POLYGON ((7.27e+05 4.57e+06, 7.27e+05 4.57e+06...     False        True  "
      ]
     },
     "execution_count": 19,
     "metadata": {},
     "output_type": "execute_result"
    }
   ],
   "source": [
    "gdf1"
   ]
  },
  {
   "cell_type": "code",
   "execution_count": null,
   "metadata": {},
   "outputs": [],
   "source": []
  }
 ],
 "metadata": {
  "kernelspec": {
   "display_name": "mapping_crop_field_env",
   "language": "python",
   "name": "python3"
  },
  "language_info": {
   "codemirror_mode": {
    "name": "ipython",
    "version": 3
   },
   "file_extension": ".py",
   "mimetype": "text/x-python",
   "name": "python",
   "nbconvert_exporter": "python",
   "pygments_lexer": "ipython3",
   "version": "3.10.15"
  }
 },
 "nbformat": 4,
 "nbformat_minor": 2
}
